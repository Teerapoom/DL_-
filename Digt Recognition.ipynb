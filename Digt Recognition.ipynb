{
 "cells": [
  {
   "attachments": {},
   "cell_type": "markdown",
   "metadata": {},
   "source": [
    "## import"
   ]
  },
  {
   "cell_type": "code",
   "execution_count": 1,
   "metadata": {},
   "outputs": [],
   "source": [
    "import tensorflow as tf \n",
    "import numpy as np\n",
    "from tensorflow.keras.datasets.mnist import load_data\n",
    "\n",
    "(X_train,y_train),(X_test,y_test) = load_data() # โหลดข้อมูล"
   ]
  },
  {
   "attachments": {},
   "cell_type": "markdown",
   "metadata": {},
   "source": [
    "จำนวน train"
   ]
  },
  {
   "cell_type": "code",
   "execution_count": 2,
   "metadata": {},
   "outputs": [
    {
     "name": "stdout",
     "output_type": "stream",
     "text": [
      "(60000, 28, 28)\n",
      "(10000, 28, 28)\n"
     ]
    }
   ],
   "source": [
    "print(X_train.shape)\n",
    "print(X_test.shape)"
   ]
  },
  {
   "attachments": {},
   "cell_type": "markdown",
   "metadata": {},
   "source": [
    "จำนวน test"
   ]
  },
  {
   "cell_type": "code",
   "execution_count": 3,
   "metadata": {},
   "outputs": [
    {
     "name": "stdout",
     "output_type": "stream",
     "text": [
      "(60000,)\n",
      "(10000,)\n"
     ]
    }
   ],
   "source": [
    "print(y_train.shape)\n",
    "print(y_test.shape)"
   ]
  },
  {
   "cell_type": "code",
   "execution_count": 4,
   "metadata": {},
   "outputs": [
    {
     "data": {
      "text/plain": [
       "array([[  0,   0,   0,   0,   0,   0,   0,   0,   0,   0,   0,   0,   0],\n",
       "       [  0,   0,   0,   0,   0,   0,   0,   0,   0,   0,   0,   0,   0],\n",
       "       [  0,   0,   0,   0,   0,   0,   0,   0,   0,   0,   0,   0,   0],\n",
       "       [  0,   0,   0,   0,   0,   0,   0,   0,   0,   0,   0,   0,   0],\n",
       "       [  0,   0,   0,   0,   0,   0,   0,   0,   0,   0,   0,   0,   0],\n",
       "       [  0,   0,   0,   0,   0,   3,  18,  18,  18, 126, 136, 175,  26],\n",
       "       [  0,  30,  36,  94, 154, 170, 253, 253, 253, 253, 253, 225, 172],\n",
       "       [ 49, 238, 253, 253, 253, 253, 253, 253, 253, 253, 251,  93,  82],\n",
       "       [ 18, 219, 253, 253, 253, 253, 253, 198, 182, 247, 241,   0,   0],\n",
       "       [  0,  80, 156, 107, 253, 253, 205,  11,   0,  43, 154,   0,   0],\n",
       "       [  0,   0,  14,   1, 154, 253,  90,   0,   0,   0,   0,   0,   0],\n",
       "       [  0,   0,   0,   0, 139, 253, 190,   2,   0,   0,   0,   0,   0],\n",
       "       [  0,   0,   0,   0,  11, 190, 253,  70,   0,   0,   0,   0,   0],\n",
       "       [  0,   0,   0,   0,   0,  35, 241, 225, 160, 108,   1,   0,   0],\n",
       "       [  0,   0,   0,   0,   0,   0,  81, 240, 253, 253, 119,  25,   0],\n",
       "       [  0,   0,   0,   0,   0,   0,   0,  45, 186, 253, 253, 150,  27],\n",
       "       [  0,   0,   0,   0,   0,   0,   0,   0,  16,  93, 252, 253, 187],\n",
       "       [  0,   0,   0,   0,   0,   0,   0,   0,   0,   0, 249, 253, 249],\n",
       "       [  0,   0,   0,   0,   0,   0,   0,  46, 130, 183, 253, 253, 207],\n",
       "       [  0,   0,   0,   0,   0,  39, 148, 229, 253, 253, 253, 250, 182],\n",
       "       [  0,   0,   0,  24, 114, 221, 253, 253, 253, 253, 201,  78,   0],\n",
       "       [  0,  23,  66, 213, 253, 253, 253, 253, 198,  81,   2,   0,   0],\n",
       "       [171, 219, 253, 253, 253, 253, 195,  80,   9,   0,   0,   0,   0],\n",
       "       [253, 253, 253, 253, 244, 133,  11,   0,   0,   0,   0,   0,   0],\n",
       "       [253, 212, 135, 132,  16,   0,   0,   0,   0,   0,   0,   0,   0],\n",
       "       [  0,   0,   0,   0,   0,   0,   0,   0,   0,   0,   0,   0,   0],\n",
       "       [  0,   0,   0,   0,   0,   0,   0,   0,   0,   0,   0,   0,   0],\n",
       "       [  0,   0,   0,   0,   0,   0,   0,   0,   0,   0,   0,   0,   0]],\n",
       "      dtype=uint8)"
      ]
     },
     "execution_count": 4,
     "metadata": {},
     "output_type": "execute_result"
    }
   ],
   "source": [
    "# X_train[0] #ข้อมูลทั้งหมด\n",
    "X_train[0,:,7:20] #ข้อมูลบางส่วน"
   ]
  },
  {
   "attachments": {},
   "cell_type": "markdown",
   "metadata": {},
   "source": [
    "ดูข้อมูลภาพ เป็นเลขอะไร (Target/label/class)"
   ]
  },
  {
   "cell_type": "code",
   "execution_count": 5,
   "metadata": {},
   "outputs": [
    {
     "data": {
      "text/plain": [
       "array([5, 0, 4, 1, 9, 2, 1, 3, 1, 4], dtype=uint8)"
      ]
     },
     "execution_count": 5,
     "metadata": {},
     "output_type": "execute_result"
    }
   ],
   "source": [
    "y_train[:10]"
   ]
  },
  {
   "cell_type": "code",
   "execution_count": 6,
   "metadata": {},
   "outputs": [
    {
     "name": "stdout",
     "output_type": "stream",
     "text": [
      "ค่าต่ำสุด: 0   ค่าสูงสุด: 255\n"
     ]
    }
   ],
   "source": [
    "min_X , max_X = np.min(X_train) , np.max(X_train)\n",
    "print(\"ค่าต่ำสุด:\",min_X,\" \",\"ค่าสูงสุด:\",max_X)"
   ]
  },
  {
   "attachments": {},
   "cell_type": "markdown",
   "metadata": {},
   "source": [
    "ตรวจสอบ missing Value"
   ]
  },
  {
   "cell_type": "code",
   "execution_count": 7,
   "metadata": {},
   "outputs": [
    {
     "data": {
      "text/plain": [
       "0"
      ]
     },
     "execution_count": 7,
     "metadata": {},
     "output_type": "execute_result"
    }
   ],
   "source": [
    "np.isnan(X_train).sum()"
   ]
  },
  {
   "attachments": {},
   "cell_type": "markdown",
   "metadata": {},
   "source": [
    "ตรวจสอบดูค่าข้างใน"
   ]
  },
  {
   "cell_type": "code",
   "execution_count": 8,
   "metadata": {},
   "outputs": [
    {
     "name": "stdout",
     "output_type": "stream",
     "text": [
      "value_y_train : [0 1 2 3 4 5 6 7 8 9]\n",
      "value_y_test : [0 1 2 3 4 5 6 7 8 9]\n"
     ]
    }
   ],
   "source": [
    "value_y_train = np.unique(y_train)\n",
    "value_y_test = np.unique(y_test)\n",
    "value_X_train = np.unique(X_train)\n",
    "value_X_test = np.unique(X_test)\n",
    "print(\"value_y_train :\",value_y_train)\n",
    "print(\"value_y_test :\",value_y_test)\n",
    "# print(\"value_X_train :\",value_X_train)#[0-255]\n",
    "# print(\"value_X_test :\",value_X_test)#[0-255]"
   ]
  },
  {
   "attachments": {},
   "cell_type": "markdown",
   "metadata": {},
   "source": [
    "#### Visualization เเสดงภาพตัวเลข"
   ]
  },
  {
   "cell_type": "code",
   "execution_count": 9,
   "metadata": {},
   "outputs": [
    {
     "data": {
      "image/png": "[encoded data removed]",
      "text/plain": [
       "<Figure size 640x480 with 1 Axes>"
      ]
     },
     "metadata": {},
     "output_type": "display_data"
    }
   ],
   "source": [
    "import matplotlib.pyplot as plt\n",
    "#ต้องการเเสดงรูปตัวเลขลำดับอื่น เปลี่ยนเลข 0 ให้เป็ค่าอื่นๆ (0-59999)\n",
    "\n",
    "img = X_train[0] #เลข index ลำดับข้อมูลภาพ\n",
    "plt.imshow(img, cmap=plt.cm.gray) #พิ้นหลังดำ\n",
    "# plt.imshow(img, cmap=plt.cm.gray_r) #พิ้นหลังขาว\n",
    "plt.grid()\n",
    "plt.show()\n"
   ]
  },
  {
   "attachments": {},
   "cell_type": "markdown",
   "metadata": {},
   "source": [
    "กรณีหลายภาพ"
   ]
  },
  {
   "cell_type": "code",
   "execution_count": 10,
   "metadata": {},
   "outputs": [],
   "source": [
    "def visual_multi(i):\n",
    "    # Plots 15 digit เริ่มต้นที่ i \n",
    "    nplots = 50 #จำนวน Feature ที่ต้องการแสดง (จำนวนกี่ภาพ)\n",
    "    fig = plt.figure(figsize=(8,4))\n",
    "    for j in range(nplots):\n",
    "        plt.subplot(4,10 , j+1) # 4 Rows x 10 คอลัมน์\n",
    "        plt.imshow(X_train[i + j],cmap=plt.cm.gist_gray_r) #แสดงภาพ\n",
    "        plt.title(y_train[i+j]) # เขียนกำกับว่าเป็นเลขอะไร 0 1 2 3 .... (target/label)\n",
    "        # plt.axis(\"off\")\n",
    "        plt.xticks([]);plt.yticks([])\n",
    "plt.show()"
   ]
  },
  {
   "cell_type": "code",
   "execution_count": 11,
   "metadata": {},
   "outputs": [],
   "source": [
    "# visual_multi(0)"
   ]
  },
  {
   "attachments": {},
   "cell_type": "markdown",
   "metadata": {},
   "source": [
    "## เตรียมข้อมูลในการ Train เเละ test\n",
    "- จัดรูปเเบบโครงสร้างข้อมูลให้ตรงกับข้อกำหนดของ Convolution\n",
    "- ทำการปรับ Normalize ให้ข้อมูลมีค่าอยู่ระหว้่าง 0 ถึง 1 "
   ]
  },
  {
   "attachments": {},
   "cell_type": "markdown",
   "metadata": {},
   "source": [
    "1 จัดรูปเเบบโครงสร้าง"
   ]
  },
  {
   "cell_type": "code",
   "execution_count": 12,
   "metadata": {},
   "outputs": [
    {
     "name": "stdout",
     "output_type": "stream",
     "text": [
      "(60000, 28, 28)\n",
      "(10000, 28, 28)\n"
     ]
    }
   ],
   "source": [
    "print(X_train.shape)\n",
    "print(X_test.shape)"
   ]
  },
  {
   "attachments": {},
   "cell_type": "markdown",
   "metadata": {},
   "source": [
    "เเบ่งข้อมูล train"
   ]
  },
  {
   "cell_type": "code",
   "execution_count": 13,
   "metadata": {},
   "outputs": [],
   "source": [
    "# X_train = X_train.reshape((60000, 28, 28,1))\n",
    "# X_test = X_test.reshape((10000, 28,28,1))\n",
    "\n",
    "# X_train = X_train.reshape(-1,28,28,1) # -1 แทนจำนวนเเถวคงเดิมก็ได้\n",
    "# X_test = X_test.reshape(-1,28,28,1)\n"
   ]
  },
  {
   "cell_type": "code",
   "execution_count": 14,
   "metadata": {},
   "outputs": [],
   "source": [
    "# อีก 1 รูปเเบบอัตโนมัต\n",
    "# X_train  = X_train.reshape((X_train.shape[0], X_train.shape[1],X_train.shape[2],1))\n",
    "# X_test = X_test.reshape((X_test.shape[0], X_test.shape[1], X_test.shape[2],1))\n",
    "\n",
    "# # หรือ ใช้ np.expand_dims\n",
    "\n",
    "X_train = np.expand_dims(X_train,-1)\n",
    "X_test = np.expand_dims(X_test,-1)\n"
   ]
  },
  {
   "cell_type": "code",
   "execution_count": 15,
   "metadata": {},
   "outputs": [
    {
     "name": "stdout",
     "output_type": "stream",
     "text": [
      "(60000, 28, 28, 1)\n",
      "(10000, 28, 28, 1)\n"
     ]
    }
   ],
   "source": [
    "print(X_train.shape)\n",
    "print(X_test.shape)"
   ]
  },
  {
   "attachments": {},
   "cell_type": "markdown",
   "metadata": {},
   "source": [
    "Normalization"
   ]
  },
  {
   "cell_type": "code",
   "execution_count": 16,
   "metadata": {},
   "outputs": [
    {
     "data": {
      "text/plain": [
       "(0.0, 1.0)"
      ]
     },
     "execution_count": 16,
     "metadata": {},
     "output_type": "execute_result"
    }
   ],
   "source": [
    "X_train = X_train.astype('float32') / 255.0 # เปลี่ยนเป็น float32 หาร 255 \n",
    "X_test = X_test.astype('float32') / 255.0\n",
    "\n",
    "np.min(X_train), np.max(X_train)"
   ]
  },
  {
   "cell_type": "code",
   "execution_count": 17,
   "metadata": {},
   "outputs": [],
   "source": [
    "# X_train[0,10,10:15]"
   ]
  },
  {
   "attachments": {},
   "cell_type": "markdown",
   "metadata": {},
   "source": [
    "### เลือกจำนวน Sample"
   ]
  },
  {
   "cell_type": "code",
   "execution_count": 18,
   "metadata": {},
   "outputs": [],
   "source": [
    "num_samples = 20000\n",
    "X_train = X_train[:num_samples]\n",
    "y_train = y_train[:num_samples]\n"
   ]
  },
  {
   "attachments": {},
   "cell_type": "markdown",
   "metadata": {},
   "source": [
    "ดูจำนวนข้อมูลภาพที่นำมาใช้ ด้วย Seaborn เพื่อดูว่าภาพที่นำมาใช้ Train (เเละ Test) มีความถึ่กระจายที่เหมาะสมไหม"
   ]
  },
  {
   "cell_type": "code",
   "execution_count": 19,
   "metadata": {},
   "outputs": [
    {
     "data": {
      "image/png": "[encoded data removed]",
      "text/plain": [
       "<Figure size 640x480 with 1 Axes>"
      ]
     },
     "metadata": {},
     "output_type": "display_data"
    }
   ],
   "source": [
    "# ดูการกระจายตัว\n",
    "import seaborn as sns\n",
    "import warnings\n",
    "warnings.filterwarnings(\"ignore\")\n",
    "sns.countplot(y_train)\n",
    "del sns\n"
   ]
  },
  {
   "cell_type": "code",
   "execution_count": 20,
   "metadata": {},
   "outputs": [
    {
     "name": "stdout",
     "output_type": "stream",
     "text": [
      "Train: X=(20000, 28, 28, 1),y(20000,)\n",
      "Test: X=(10000, 28, 28, 1),y(10000,)\n"
     ]
    }
   ],
   "source": [
    "print('Train: X={},y{}'.format(X_train.shape, y_train.shape))\n",
    "print('Test: X={},y{}'.format(X_test.shape, y_test.shape))"
   ]
  },
  {
   "attachments": {},
   "cell_type": "markdown",
   "metadata": {},
   "source": [
    "### สร้าง Model"
   ]
  },
  {
   "cell_type": "code",
   "execution_count": 21,
   "metadata": {},
   "outputs": [
    {
     "data": {
      "text/plain": [
       "array([0, 1, 2, 3, 4, 5, 6, 7, 8, 9], dtype=uint8)"
      ]
     },
     "execution_count": 21,
     "metadata": {},
     "output_type": "execute_result"
    }
   ],
   "source": [
    "np.unique(y_train)"
   ]
  },
  {
   "cell_type": "code",
   "execution_count": 22,
   "metadata": {},
   "outputs": [
    {
     "data": {
      "text/plain": [
       "10"
      ]
     },
     "execution_count": 22,
     "metadata": {},
     "output_type": "execute_result"
    }
   ],
   "source": [
    "# เช็คสมาชิกค่าใน\n",
    "num_classes = len(np.unique(y_train))\n",
    "num_classes"
   ]
  },
  {
   "cell_type": "code",
   "execution_count": 23,
   "metadata": {},
   "outputs": [],
   "source": [
    "num_classes = 10"
   ]
  },
  {
   "attachments": {},
   "cell_type": "markdown",
   "metadata": {},
   "source": [
    "ค่ามิติ"
   ]
  },
  {
   "cell_type": "code",
   "execution_count": 24,
   "metadata": {},
   "outputs": [
    {
     "data": {
      "text/plain": [
       "(28, 28, 1)"
      ]
     },
     "execution_count": 24,
     "metadata": {},
     "output_type": "execute_result"
    }
   ],
   "source": [
    "in_shape = X_train.shape[1:]\n",
    "in_shape\n"
   ]
  },
  {
   "attachments": {},
   "cell_type": "markdown",
   "metadata": {},
   "source": [
    "### สร้าง Model Convo(30) -> MaxPoo -> Convo(64)-> MaxPoo -> Flatten >.."
   ]
  },
  {
   "cell_type": "code",
   "execution_count": 25,
   "metadata": {},
   "outputs": [],
   "source": [
    "from tensorflow.keras import Sequential\n",
    "from tensorflow.keras.layers import Dense,Conv2D,MaxPooling2D,Flatten,Dropout\n",
    "\n",
    "model = Sequential()\n",
    "model.add(Conv2D(32,(3,3),activation='relu',input_shape = in_shape)) #ชั้นเเรก\n",
    "model.add(MaxPooling2D((2,2)))\n",
    "\n",
    "model.add(Conv2D(64,(3,3),activation='relu')) #ชั้นสอง\n",
    "model.add(MaxPooling2D((2,2)))\n",
    "\n",
    "model.add(Flatten())\n",
    "model.add(Dropout(0.5))\n",
    "model.add(Dense(128,activation='relu'))\n",
    "model.add(Dropout(0.5))\n",
    "\n",
    "model.add(Dense(num_classes, activation='softmax'))\n"
   ]
  },
  {
   "cell_type": "code",
   "execution_count": 26,
   "metadata": {},
   "outputs": [
    {
     "name": "stdout",
     "output_type": "stream",
     "text": [
      "Model: \"sequential\"\n",
      "_________________________________________________________________\n",
      " Layer (type)                Output Shape              Param #   \n",
      "=================================================================\n",
      " conv2d (Conv2D)             (None, 26, 26, 32)        320       \n",
      "                                                                 \n",
      " max_pooling2d (MaxPooling2D  (None, 13, 13, 32)       0         \n",
      " )                                                               \n",
      "                                                                 \n",
      " conv2d_1 (Conv2D)           (None, 11, 11, 64)        18496     \n",
      "                                                                 \n",
      " max_pooling2d_1 (MaxPooling  (None, 5, 5, 64)         0         \n",
      " 2D)                                                             \n",
      "                                                                 \n",
      " flatten (Flatten)           (None, 1600)              0         \n",
      "                                                                 \n",
      " dropout (Dropout)           (None, 1600)              0         \n",
      "                                                                 \n",
      " dense (Dense)               (None, 128)               204928    \n",
      "                                                                 \n",
      " dropout_1 (Dropout)         (None, 128)               0         \n",
      "                                                                 \n",
      " dense_1 (Dense)             (None, 10)                1290      \n",
      "                                                                 \n",
      "=================================================================\n",
      "Total params: 225,034\n",
      "Trainable params: 225,034\n",
      "Non-trainable params: 0\n",
      "_________________________________________________________________\n"
     ]
    }
   ],
   "source": [
    "model.summary()"
   ]
  },
  {
   "cell_type": "code",
   "execution_count": 27,
   "metadata": {},
   "outputs": [],
   "source": [
    "# import graphviz \n",
    "# from tensorflow.keras.utils import plot_model\n",
    "# plot_model(model,'digt.pmg',show_shapes=True,show_layer_names=True)"
   ]
  },
  {
   "attachments": {},
   "cell_type": "markdown",
   "metadata": {},
   "source": [
    "## ทำ Compile เเละ Train "
   ]
  },
  {
   "cell_type": "code",
   "execution_count": 28,
   "metadata": {},
   "outputs": [
    {
     "name": "stdout",
     "output_type": "stream",
     "text": [
      "Epoch 1/20\n",
      "141/141 [==============================] - 6s 37ms/step - loss: 0.7041 - accuracy: 0.7773 - val_loss: 0.1362 - val_accuracy: 0.9560\n",
      "Epoch 2/20\n",
      "141/141 [==============================] - 5s 36ms/step - loss: 0.2213 - accuracy: 0.9319 - val_loss: 0.0932 - val_accuracy: 0.9670\n",
      "Epoch 3/20\n",
      "141/141 [==============================] - 5s 37ms/step - loss: 0.1634 - accuracy: 0.9504 - val_loss: 0.0654 - val_accuracy: 0.9800\n",
      "Epoch 4/20\n",
      "141/141 [==============================] - 5s 34ms/step - loss: 0.1334 - accuracy: 0.9588 - val_loss: 0.0549 - val_accuracy: 0.9845\n",
      "Epoch 5/20\n",
      "141/141 [==============================] - 5s 34ms/step - loss: 0.1164 - accuracy: 0.9643 - val_loss: 0.0454 - val_accuracy: 0.9860\n",
      "Epoch 6/20\n",
      "141/141 [==============================] - 5s 34ms/step - loss: 0.1017 - accuracy: 0.9691 - val_loss: 0.0464 - val_accuracy: 0.9860\n",
      "Epoch 7/20\n",
      "141/141 [==============================] - 5s 34ms/step - loss: 0.0909 - accuracy: 0.9707 - val_loss: 0.0424 - val_accuracy: 0.9885\n",
      "Epoch 8/20\n",
      "141/141 [==============================] - 5s 34ms/step - loss: 0.0801 - accuracy: 0.9752 - val_loss: 0.0350 - val_accuracy: 0.9895\n",
      "Epoch 9/20\n",
      "141/141 [==============================] - 5s 35ms/step - loss: 0.0764 - accuracy: 0.9776 - val_loss: 0.0326 - val_accuracy: 0.9915\n",
      "Epoch 10/20\n",
      "141/141 [==============================] - 5s 35ms/step - loss: 0.0698 - accuracy: 0.9797 - val_loss: 0.0343 - val_accuracy: 0.9905\n",
      "Epoch 11/20\n",
      "141/141 [==============================] - 6s 40ms/step - loss: 0.0665 - accuracy: 0.9787 - val_loss: 0.0331 - val_accuracy: 0.9910\n",
      "Epoch 12/20\n",
      "141/141 [==============================] - 7s 46ms/step - loss: 0.0651 - accuracy: 0.9796 - val_loss: 0.0304 - val_accuracy: 0.9925\n",
      "Epoch 13/20\n",
      "141/141 [==============================] - 6s 45ms/step - loss: 0.0625 - accuracy: 0.9800 - val_loss: 0.0310 - val_accuracy: 0.9935\n",
      "Epoch 14/20\n",
      "141/141 [==============================] - 6s 44ms/step - loss: 0.0594 - accuracy: 0.9808 - val_loss: 0.0280 - val_accuracy: 0.9925\n",
      "Epoch 15/20\n",
      "141/141 [==============================] - 6s 44ms/step - loss: 0.0557 - accuracy: 0.9813 - val_loss: 0.0278 - val_accuracy: 0.9925\n",
      "Epoch 16/20\n",
      "141/141 [==============================] - 6s 40ms/step - loss: 0.0491 - accuracy: 0.9846 - val_loss: 0.0266 - val_accuracy: 0.9930\n",
      "Epoch 17/20\n",
      "141/141 [==============================] - 5s 36ms/step - loss: 0.0505 - accuracy: 0.9848 - val_loss: 0.0245 - val_accuracy: 0.9940\n",
      "Epoch 18/20\n",
      "141/141 [==============================] - 5s 35ms/step - loss: 0.0448 - accuracy: 0.9854 - val_loss: 0.0291 - val_accuracy: 0.9930\n",
      "Epoch 19/20\n",
      "141/141 [==============================] - 5s 35ms/step - loss: 0.0444 - accuracy: 0.9858 - val_loss: 0.0287 - val_accuracy: 0.9925\n",
      "Epoch 20/20\n",
      "141/141 [==============================] - 5s 35ms/step - loss: 0.0436 - accuracy: 0.9861 - val_loss: 0.0276 - val_accuracy: 0.9930\n",
      "Time Taken: 1.78 minutes\n"
     ]
    }
   ],
   "source": [
    "import time\n",
    "model.compile(optimizer='adam',loss='sparse_categorical_crossentropy',metrics=['accuracy'])\n",
    "start = time.time() #เวลาเริ่ม\n",
    "history = model.fit(X_train,y_train,epochs=20,batch_size=128,verbose=1,validation_split=0.1) ### Train\n",
    "end = time.time() #เวลาสิ้นสุด\n",
    "\n",
    "print('Time Taken: {:.2f} minutes'.format((end-start)/60))\n"
   ]
  },
  {
   "cell_type": "code",
   "execution_count": 29,
   "metadata": {},
   "outputs": [
    {
     "name": "stdout",
     "output_type": "stream",
     "text": [
      "313/313 [==============================] - 1s 4ms/step - loss: 0.0300 - accuracy: 0.9893\n",
      "Accuracy: 0.989\n"
     ]
    }
   ],
   "source": [
    "score = model.evaluate(X_test, y_test,verbose=1)\n",
    "print('Accuracy: {:.3f}'.format(score[1]))"
   ]
  },
  {
   "attachments": {},
   "cell_type": "markdown",
   "metadata": {},
   "source": [
    "พล๊อตกราฟดูค่า loss"
   ]
  },
  {
   "cell_type": "code",
   "execution_count": 30,
   "metadata": {},
   "outputs": [
    {
     "data": {
      "image/png": "[encoded data removed]",
      "text/plain": [
       "<Figure size 640x480 with 1 Axes>"
      ]
     },
     "metadata": {},
     "output_type": "display_data"
    }
   ],
   "source": [
    "plt.plot(history.history['loss'],color='b',label='Training')\n",
    "plt.plot(history.history['val_loss'],'r--',label='validation')\n",
    "plt.title('Loss')\n",
    "plt.legend()\n",
    "plt.show()"
   ]
  },
  {
   "attachments": {},
   "cell_type": "markdown",
   "metadata": {},
   "source": [
    "## ดูเลขที่ทายผิด"
   ]
  },
  {
   "cell_type": "code",
   "execution_count": 31,
   "metadata": {},
   "outputs": [
    {
     "name": "stdout",
     "output_type": "stream",
     "text": [
      "313/313 [==============================] - 1s 4ms/step\n"
     ]
    }
   ],
   "source": [
    "y_pred = model.predict(X_test) # predict ได้ผลลัพธ์รูปแบบ one - hot vector\n",
    "y_pred_cls = np.argmax(y_pred, axis=1) # หาว่าเป็นคลาสใด"
   ]
  },
  {
   "cell_type": "code",
   "execution_count": 32,
   "metadata": {},
   "outputs": [],
   "source": [
    "idx_miss = np.where(y_pred_cls != y_test) # y ของจริง ไม่ตรงกับ y ที่ทำนาย"
   ]
  },
  {
   "cell_type": "code",
   "execution_count": 33,
   "metadata": {},
   "outputs": [
    {
     "name": "stdout",
     "output_type": "stream",
     "text": [
      "107\n"
     ]
    }
   ],
   "source": [
    "#จำนวนที่ผิดทั้งหมด\n",
    "print(len(idx_miss[0]))"
   ]
  },
  {
   "attachments": {},
   "cell_type": "markdown",
   "metadata": {},
   "source": [
    " index ที่ผิด"
   ]
  },
  {
   "cell_type": "code",
   "execution_count": 34,
   "metadata": {},
   "outputs": [
    {
     "name": "stdout",
     "output_type": "stream",
     "text": [
      "[ 321  445  449  582  684  717  740  947 1014 1039 1182 1226 1247 1260\n",
      " 1299]\n"
     ]
    }
   ],
   "source": [
    "print(idx_miss[0][:15])"
   ]
  },
  {
   "attachments": {},
   "cell_type": "markdown",
   "metadata": {},
   "source": [
    "เลขจริง"
   ]
  },
  {
   "cell_type": "code",
   "execution_count": 35,
   "metadata": {},
   "outputs": [
    {
     "data": {
      "text/plain": [
       "array([2, 6, 3, 8, 7, 0, 4, 8, 6, 7, 6, 7, 9, 7, 5], dtype=uint8)"
      ]
     },
     "execution_count": 35,
     "metadata": {},
     "output_type": "execute_result"
    }
   ],
   "source": [
    "y_test[idx_miss][:15]"
   ]
  },
  {
   "attachments": {},
   "cell_type": "markdown",
   "metadata": {},
   "source": [
    "คอมทาย"
   ]
  },
  {
   "cell_type": "code",
   "execution_count": 36,
   "metadata": {},
   "outputs": [
    {
     "data": {
      "text/plain": [
       "array([7, 0, 5, 2, 3, 6, 9, 9, 5, 3, 5, 2, 5, 1, 7], dtype=int64)"
      ]
     },
     "execution_count": 36,
     "metadata": {},
     "output_type": "execute_result"
    }
   ],
   "source": [
    "y_pred_cls[idx_miss][:15]"
   ]
  },
  {
   "attachments": {},
   "cell_type": "markdown",
   "metadata": {},
   "source": [
    "ดูภาพที่ผิด"
   ]
  },
  {
   "cell_type": "code",
   "execution_count": 37,
   "metadata": {},
   "outputs": [
    {
     "data": {
      "image/png": "[encoded data removed]",
      "text/plain": [
       "<Figure size 200x200 with 1 Axes>"
      ]
     },
     "metadata": {},
     "output_type": "display_data"
    }
   ],
   "source": [
    "# เนื่องจาก Feature ผ่าน Reshape มาเเล้ว ต้องทำการ reshape ให้เป็น 28x28 ก่อนเเล้วทำการพล็อตรูป\n",
    "fig = plt.figure(figsize=(2,2)) #ขนาดรูป(w x h)\n",
    "plt.imshow(X_test[idx_miss][1].reshape(28,28),cmap=plt.cm.gray_r)\n",
    "plt.show()"
   ]
  },
  {
   "attachments": {},
   "cell_type": "markdown",
   "metadata": {},
   "source": [
    "วนรูปหลายรูปทำนายผิด"
   ]
  },
  {
   "cell_type": "code",
   "execution_count": null,
   "metadata": {},
   "outputs": [],
   "source": [
    "# nplots = 20\n",
    "# fig = plt.figure(figsize=(10,3.4))\n",
    "# for j,k in enumerate(idx_miss[0]):\n",
    "#     plt.subplot(2,8,j+1)\n",
    "#     plt.imshow(X_test[k].reshape(28,28),cmap=plt.cm.gray_r)\n",
    "#     plt.title(\"p --> {}\".format(y_pred_cls[k]))\n",
    "#     plt.xticks([])\n",
    "#     plt.yticks([])\n",
    "#     plt.xlabel([k])\n",
    "#     if j >= nplots-1:\n",
    "#         break\n",
    "\n",
    "plt.show()"
   ]
  },
  {
   "attachments": {},
   "cell_type": "markdown",
   "metadata": {},
   "source": [
    "## ทำนายจากรายมือ"
   ]
  },
  {
   "cell_type": "code",
   "execution_count": 43,
   "metadata": {},
   "outputs": [
    {
     "data": {
      "image/png": "[encoded data removed]",
      "text/plain": [
       "<PIL.Image.Image image mode=RGB size=28x28>"
      ]
     },
     "execution_count": 43,
     "metadata": {},
     "output_type": "execute_result"
    }
   ],
   "source": [
    "from tensorflow.keras.preprocessing.image import load_img , img_to_array\n",
    "from  tensorflow.image import rgb_to_grayscale\n",
    "\n",
    "img = load_img('digit0.png',target_size=(28,28))\n",
    "img"
   ]
  },
  {
   "cell_type": "code",
   "execution_count": 44,
   "metadata": {},
   "outputs": [
    {
     "name": "stdout",
     "output_type": "stream",
     "text": [
      "Shape= (28, 28, 1)\n",
      "max pixl value= 254.97452\n"
     ]
    }
   ],
   "source": [
    "from PIL import Image,ImageOps\n",
    "\n",
    "img = ImageOps.invert(img) # ทำการกลับ ขาว <---> ดำ\n",
    "img = img_to_array(img)\n",
    "img = rgb_to_grayscale(img)\n",
    "\n",
    "print('Shape=', img.shape) #มิติภาพ\n",
    "print('max pixl value=',np.max(img)) #"
   ]
  },
  {
   "attachments": {},
   "cell_type": "markdown",
   "metadata": {},
   "source": [
    "ปรับสเกลสีให้มีค่า 0 ถึง 1 (์Normalize)"
   ]
  },
  {
   "cell_type": "code",
   "execution_count": 46,
   "metadata": {},
   "outputs": [
    {
     "name": "stdout",
     "output_type": "stream",
     "text": [
      "max pixl value= 0.99990004\n"
     ]
    }
   ],
   "source": [
    "img = img/255.0\n",
    "print('max pixl value=',np.max(img))"
   ]
  },
  {
   "attachments": {},
   "cell_type": "markdown",
   "metadata": {},
   "source": [
    "จัดรูปเเบบให้เป็น batch_size , W H Channel "
   ]
  },
  {
   "cell_type": "code",
   "execution_count": 47,
   "metadata": {},
   "outputs": [
    {
     "data": {
      "text/plain": [
       "(1, 28, 28, 1)"
      ]
     },
     "execution_count": 47,
     "metadata": {},
     "output_type": "execute_result"
    }
   ],
   "source": [
    "img = np.expand_dims(img, axis=0)\n",
    "img.shape"
   ]
  },
  {
   "attachments": {},
   "cell_type": "markdown",
   "metadata": {},
   "source": [
    "Predict ว่าเป็นเลขอะไร"
   ]
  },
  {
   "cell_type": "code",
   "execution_count": 48,
   "metadata": {},
   "outputs": [
    {
     "name": "stdout",
     "output_type": "stream",
     "text": [
      "1/1 [==============================] - 0s 22ms/step\n"
     ]
    },
    {
     "data": {
      "text/plain": [
       "(array([[6.8166344e-08, 1.1838895e-03, 8.8819405e-03, 9.7882050e-01,\n",
       "         4.2359084e-03, 3.7330159e-03, 7.3412643e-06, 2.8669357e-03,\n",
       "         6.0180510e-06, 2.6449381e-04]], dtype=float32),\n",
       " 3)"
      ]
     },
     "execution_count": 48,
     "metadata": {},
     "output_type": "execute_result"
    }
   ],
   "source": [
    "y_pred = model.predict(img)\n",
    "y_pred,round(3)"
   ]
  },
  {
   "cell_type": "code",
   "execution_count": 49,
   "metadata": {},
   "outputs": [
    {
     "name": "stdout",
     "output_type": "stream",
     "text": [
      "[3]\n"
     ]
    }
   ],
   "source": [
    "predicted = np.argmax(y_pred,axis = 1)\n",
    "print(predicted)"
   ]
  },
  {
   "attachments": {},
   "cell_type": "markdown",
   "metadata": {},
   "source": [
    "ดูภาพ input เเละ Predict"
   ]
  },
  {
   "cell_type": "code",
   "execution_count": 52,
   "metadata": {},
   "outputs": [
    {
     "data": {
      "text/plain": [
       "([], [])"
      ]
     },
     "execution_count": 52,
     "metadata": {},
     "output_type": "execute_result"
    },
    {
     "data": {
      "image/png": "[encoded data removed]",
      "text/plain": [
       "<Figure size 200x200 with 1 Axes>"
      ]
     },
     "metadata": {},
     "output_type": "display_data"
    }
   ],
   "source": [
    "plt.figure(figsize=(2,2))\n",
    "plt.imshow(img[0],cmap=plt.cm.gray_r)\n",
    "plt.title('Predict{}'.format(predicted[0]))\n",
    "plt.xticks([])\n",
    "plt.yticks([])"
   ]
  },
  {
   "attachments": {},
   "cell_type": "markdown",
   "metadata": {},
   "source": [
    "Predict หลายตัว"
   ]
  },
  {
   "cell_type": "code",
   "execution_count": 62,
   "metadata": {},
   "outputs": [
    {
     "name": "stdout",
     "output_type": "stream",
     "text": [
      "1/1 [==============================] - 0s 24ms/step\n",
      "1/1 [==============================] - 0s 22ms/step\n",
      "1/1 [==============================] - 0s 20ms/step\n",
      "1/1 [==============================] - 0s 25ms/step\n",
      "1/1 [==============================] - 0s 20ms/step\n",
      "1/1 [==============================] - 0s 22ms/step\n",
      "1/1 [==============================] - 0s 20ms/step\n",
      "1/1 [==============================] - 0s 20ms/step\n",
      "1/1 [==============================] - 0s 20ms/step\n",
      "1/1 [==============================] - 0s 22ms/step\n"
     ]
    }
   ],
   "source": [
    "from PIL import Image, ImageOps\n",
    "imgfiles = ['digit0.png', 'digit1.png', 'digit2.png', 'digit3.png', 'digit4.png', 'digit5.png', 'digit6.png','digit7.png','digit8.png','digit9.png']\n",
    "def predict_digit(imgs):\n",
    "    y_pred=[]; y_pred_cls=[]; img_lst = [] #listสำหรับเก็บข้อมูล\n",
    "    \n",
    "    for i in imgs:\n",
    "        img = load_img(i,target_size=(28,28)) #โหลดภาพเเล้วปรับขนาดเป็น 28x28\n",
    "        img = ImageOps.invert(img) # Invert กลับ\n",
    "        img = img_to_array(img) # เปลี่ยนเป็น array\n",
    "        img = rgb_to_grayscale(img) # เปลี่ยนเป็นโทนเทา (ขาวดำ)\n",
    "        img = img/255.0 # ปรับค่าสีให้อยู่ระหว่าง 0 ถึง 1\n",
    "        img_lst.append(img)\n",
    "\n",
    "        img = np.expand_dims(img,axis=0) # ปรับมิติให้เป็น (x,x,x,x)\n",
    "        y_pred_i = model.predict(img) # predict\n",
    "        y_pred_cls_i = np.argmax(y_pred_i,-1) # ผล predict ว่าเป็น Class อะไร\n",
    "        y_pred.append(y_pred_i)\n",
    "        y_pred_cls.append(y_pred_cls_i)\n",
    "    return img_lst,y_pred_cls,y_pred\n",
    "\n",
    "img_lst,y_pred_cls,y_pred = predict_digit(imgfiles)\n",
    "\n"
   ]
  },
  {
   "cell_type": "code",
   "execution_count": 64,
   "metadata": {},
   "outputs": [
    {
     "data": {
      "image/png": "[encoded data removed]",
      "text/plain": [
       "<Figure size 1000x470 with 10 Axes>"
      ]
     },
     "metadata": {},
     "output_type": "display_data"
    }
   ],
   "source": [
    "fig = plt.figure(figsize=(10,4.7))\n",
    "for i , k  in enumerate(img_lst): #วนรอบอ่านค่าจาก List ทำการพล็อต\n",
    "    plt.subplot(3,8,i+1)\n",
    "    plt.imshow(k,cmap=plt.cm.gray_r) #พล็อตตัวเลขที่ทำนาย\n",
    "    plt.title('p -->{}'.format(y_pred_cls[i][0]))\n",
    "    plt.xticks([])\n",
    "    plt.yticks([])\n",
    "plt.show()\n"
   ]
  }
 ],
 "metadata": {
  "kernelspec": {
   "display_name": "Python 3",
   "language": "python",
   "name": "python3"
  },
  "language_info": {
   "codemirror_mode": {
    "name": "ipython",
    "version": 3
   },
   "file_extension": ".py",
   "mimetype": "text/x-python",
   "name": "python",
   "nbconvert_exporter": "python",
   "pygments_lexer": "ipython3",
   "version": "3.10.7"
  },
  "orig_nbformat": 4,
  "vscode": {
   "interpreter": {
    "hash": "547733121963954cf03ad109e00d47313429c4af37f837bad0df09349b1b3ecd"
   }
  }
 },
 "nbformat": 4,
 "nbformat_minor": 2
}
